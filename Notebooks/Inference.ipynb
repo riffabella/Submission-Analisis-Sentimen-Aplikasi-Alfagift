{
  "nbformat": 4,
  "nbformat_minor": 0,
  "metadata": {
    "colab": {
      "provenance": [],
      "gpuType": "T4"
    },
    "kernelspec": {
      "name": "python3",
      "display_name": "Python 3"
    },
    "language_info": {
      "name": "python"
    },
    "accelerator": "GPU"
  },
  "cells": [
    {
      "cell_type": "markdown",
      "source": [
        "## **Import Library**"
      ],
      "metadata": {
        "id": "hF8jGFzWmOyj"
      }
    },
    {
      "cell_type": "code",
      "execution_count": null,
      "metadata": {
        "id": "1pXVV7PYmLA_"
      },
      "outputs": [],
      "source": [
        "# Mengimpor library untuk membaca file model dan tokenizer yang disimpan\n",
        "import pickle\n",
        "\n",
        "# Mengimpor library untuk manipulasi array dan operasi numerik\n",
        "import numpy as np\n",
        "\n",
        "# Mengimpor TensorFlow untuk memuat dan menjalankan model deep learning\n",
        "import tensorflow as tf\n",
        "\n",
        "# Mengimpor fungsi untuk padding input teks agar memiliki panjang yang seragam\n",
        "from keras.preprocessing.sequence import pad_sequences\n",
        "\n",
        "\n",
        "from sklearn.preprocessing import LabelEncoder\n",
        "\n",
        "# Menonaktifkan peringatan agar output lebih bersih\n",
        "import warnings\n",
        "warnings.filterwarnings(\"ignore\")"
      ]
    },
    {
      "cell_type": "markdown",
      "source": [
        "## **Memuat Model dan Alat Preprocessing untuk Inference**"
      ],
      "metadata": {
        "id": "02Q_uHlooVTS"
      }
    },
    {
      "cell_type": "code",
      "source": [
        "# Memuat model LSTM dari file .h5 yang berada di dalam folder ../Models\n",
        "lstm_model = tf.keras.models.load_model(\"lstm_sentiment_model.keras\")\n",
        "\n",
        "# Membuka dan memuat model SVM dari file pickle\n",
        "with open(\"svm_sentiment_model.pkl\", \"rb\") as f:\n",
        "    svm_model = pickle.load(f)\n",
        "\n",
        "# Membuka dan memuat model Random Forest dari file pickle\n",
        "with open(\"rf_sentiment_model.pkl\", \"rb\") as f:\n",
        "    rf_model = pickle.load(f)\n",
        "\n",
        "# Memuat kembali TF-IDF Vectorizer untuk mentransformasi teks ke bentuk vektor numerik\n",
        "with open(\"vectorizer.pkl\", \"rb\") as f:\n",
        "    vectorizer = pickle.load(f)\n",
        "\n",
        "# Memuat tokenizer untuk mengubah teks menjadi urutan token angka untuk model LSTM\n",
        "with open(\"tokenizer.pkl\", \"rb\") as f:\n",
        "    tokenizer = pickle.load(f)"
      ],
      "metadata": {
        "id": "2TEopBb8qNqu"
      },
      "execution_count": null,
      "outputs": []
    },
    {
      "cell_type": "markdown",
      "source": [
        "## **Preprocessing Untuk Data Baru**"
      ],
      "metadata": {
        "id": "0wOMnv0XOYvZ"
      }
    },
    {
      "cell_type": "code",
      "source": [
        "# Data teks baru yang akan digunakan untuk prediksi sentimen\n",
        "new_texts = [\n",
        "    \"Pengiriman cepat.\",  # Kemungkinan sentimen positif\n",
        "    \"Aplikasi lemot sering eror hanya loading saja.\",  # Kemungkinan sentimen negatif\n",
        "    \"Tambah metode pembayaran M-banking!.\"  # Kemungkinan netral\n",
        "]\n",
        "\n",
        "# Preprocessing untuk Model LSTM:\n",
        "# Mengubah teks menjadi urutan token numerik\n",
        "new_sequences = tokenizer.texts_to_sequences(new_texts)\n",
        "\n",
        "# Melakukan padding pada urutan token agar seragam panjangnya (maxlen=100)\n",
        "new_padded = pad_sequences(new_sequences, maxlen=100)\n",
        "\n",
        "# Preprocessing untuk Model SVM dan Random Forest:\n",
        "# Mengubah teks menjadi representasi vektor numerik dengan metode TF-IDF\n",
        "new_tfidf = vectorizer.transform(new_texts)"
      ],
      "metadata": {
        "id": "nseYOYqQOlJB"
      },
      "execution_count": null,
      "outputs": []
    },
    {
      "cell_type": "markdown",
      "source": [
        "## **Perform Sentiment Prediction**"
      ],
      "metadata": {
        "id": "2hw3QB9ROwPj"
      }
    },
    {
      "cell_type": "code",
      "source": [
        "# Melakukan prediksi menggunakan model LSTM\n",
        "# Hasil prediksi berupa probabilitas untuk setiap kelas, sehingga kita ambil nilai maksimum (argmax)\n",
        "lstm_preds = np.argmax(lstm_model.predict(new_padded), axis=1)\n",
        "\n",
        "# Melakukan prediksi menggunakan model SVM\n",
        "# Model SVM secara langsung menghasilkan label prediksi dari data TF-IDF\n",
        "svm_preds = svm_model.predict(new_tfidf)\n",
        "\n",
        "# Melakukan prediksi menggunakan model Random Forest\n",
        "# Sama seperti SVM, Random Forest memberikan prediksi berbasis data TF-IDF\n",
        "rf_preds = rf_model.predict(new_tfidf)"
      ],
      "metadata": {
        "colab": {
          "base_uri": "https://localhost:8080/"
        },
        "id": "LzlCsAVwO05-",
        "outputId": "0901263a-f6f5-4987-ee60-4d8c4a9903bf"
      },
      "execution_count": null,
      "outputs": [
        {
          "output_type": "stream",
          "name": "stdout",
          "text": [
            "\u001b[1m1/1\u001b[0m \u001b[32m━━━━━━━━━━━━━━━━━━━━\u001b[0m\u001b[37m\u001b[0m \u001b[1m2s\u001b[0m 2s/step\n"
          ]
        }
      ]
    },
    {
      "cell_type": "markdown",
      "source": [
        "## **Menampilkan Hasil Prediksi Sentimen**"
      ],
      "metadata": {
        "id": "AfO2SZhpTrWx"
      }
    },
    {
      "cell_type": "code",
      "source": [
        "#Mapping label numerik ke label string agar hasil prediksi lebih mudah dibaca\n",
        "label_map = {0: \"negative\", 1: \"neutral\", 2: \"positive\"}\n",
        "\n",
        "# Menampilkan hasil prediksi dari ketiga model untuk setiap input teks\n",
        "print(\"\\nSentiment Prediction Results: \")\n",
        "for i, text in enumerate(new_texts):\n",
        "    print(f\"Text: {text}\")  # Menampilkan teks input\n",
        "    print(f\"LSTM Prediction: {label_map[lstm_preds[i]]}\")  # Hasil prediksi model LSTM\n",
        "    print(f\"SVM Prediction: {label_map[svm_preds[i]]}\")    # Hasil prediksi model SVM\n",
        "    print(f\"Random Forest Prediction: {label_map[rf_preds[i]]}\")  # Hasil prediksi model RF\n",
        "    print(\"-\" * 50)  # Garis pemisah antar hasil"
      ],
      "metadata": {
        "id": "MWD8WnYHTwUQ",
        "outputId": "16f70d1c-f5a2-4635-b745-8b87fcc6577d",
        "colab": {
          "base_uri": "https://localhost:8080/"
        }
      },
      "execution_count": null,
      "outputs": [
        {
          "output_type": "stream",
          "name": "stdout",
          "text": [
            "\n",
            "Sentiment Prediction Results: \n",
            "Text: Pengiriman cepat.\n",
            "LSTM Prediction: positive\n",
            "SVM Prediction: positive\n",
            "Random Forest Prediction: positive\n",
            "--------------------------------------------------\n",
            "Text: Aplikasi lemot sering eror hanya loading saja.\n",
            "LSTM Prediction: negative\n",
            "SVM Prediction: negative\n",
            "Random Forest Prediction: negative\n",
            "--------------------------------------------------\n",
            "Text: Tambah metode pembayaran M-banking!.\n",
            "LSTM Prediction: neutral\n",
            "SVM Prediction: neutral\n",
            "Random Forest Prediction: neutral\n",
            "--------------------------------------------------\n"
          ]
        }
      ]
    }
  ]
}