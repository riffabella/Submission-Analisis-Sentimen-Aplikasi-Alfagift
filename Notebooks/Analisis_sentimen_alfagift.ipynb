{
  "nbformat": 4,
  "nbformat_minor": 0,
  "metadata": {
    "colab": {
      "provenance": [],
      "gpuType": "T4"
    },
    "kernelspec": {
      "name": "python3",
      "display_name": "Python 3"
    },
    "language_info": {
      "name": "python"
    },
    "accelerator": "GPU"
  },
  "cells": [
    {
      "cell_type": "markdown",
      "source": [
        "Proyek Submission ini, menggunakan data reviews atau ulasana pada aplikasi Alfagift dengan menggunakan scraping yang sebelumnya sudah dilakukan pada file scrapping yang terpisah."
      ],
      "metadata": {
        "id": "oU5M2iN4NU2D"
      }
    },
    {
      "cell_type": "markdown",
      "source": [
        "## **Instal dan Import Library**"
      ],
      "metadata": {
        "id": "OTlk1DpHN7QN"
      }
    },
    {
      "cell_type": "code",
      "execution_count": 1,
      "metadata": {
        "colab": {
          "base_uri": "https://localhost:8080/"
        },
        "id": "7yEY4z35NyHn",
        "outputId": "3cc69332-e604-438f-c1c2-7b833626f9cc"
      },
      "outputs": [
        {
          "output_type": "stream",
          "name": "stdout",
          "text": [
            "Collecting Sastrawi\n",
            "  Downloading Sastrawi-1.0.1-py2.py3-none-any.whl.metadata (909 bytes)\n",
            "Downloading Sastrawi-1.0.1-py2.py3-none-any.whl (209 kB)\n",
            "\u001b[?25l   \u001b[90m━━━━━━━━━━━━━━━━━━━━━━━━━━━━━━━━━━━━━━━━\u001b[0m \u001b[32m0.0/209.7 kB\u001b[0m \u001b[31m?\u001b[0m eta \u001b[36m-:--:--\u001b[0m\r\u001b[2K   \u001b[91m━━━━━━━━━━━━━━━━━━━━━━━━━━━━━━━━━━━━━━━\u001b[0m\u001b[90m╺\u001b[0m \u001b[32m204.8/209.7 kB\u001b[0m \u001b[31m7.1 MB/s\u001b[0m eta \u001b[36m0:00:01\u001b[0m\r\u001b[2K   \u001b[90m━━━━━━━━━━━━━━━━━━━━━━━━━━━━━━━━━━━━━━━━\u001b[0m \u001b[32m209.7/209.7 kB\u001b[0m \u001b[31m4.7 MB/s\u001b[0m eta \u001b[36m0:00:00\u001b[0m\n",
            "\u001b[?25hInstalling collected packages: Sastrawi\n",
            "Successfully installed Sastrawi-1.0.1\n"
          ]
        },
        {
          "output_type": "stream",
          "name": "stderr",
          "text": [
            "[nltk_data] Downloading package punkt to /root/nltk_data...\n",
            "[nltk_data]   Unzipping tokenizers/punkt.zip.\n",
            "[nltk_data] Downloading package punkt_tab to /root/nltk_data...\n",
            "[nltk_data]   Unzipping tokenizers/punkt_tab.zip.\n",
            "[nltk_data] Downloading package stopwords to /root/nltk_data...\n",
            "[nltk_data]   Unzipping corpora/stopwords.zip.\n"
          ]
        }
      ],
      "source": [
        "# Instalasi pustaka yang dibutuhkan\n",
        "!pip install Sastrawi\n",
        "\n",
        "# Pustaka untuk manipulasi data dan visualisasi\n",
        "import pandas as pd\n",
        "import numpy as np\n",
        "import matplotlib.pyplot as plt\n",
        "import seaborn as sns\n",
        "from wordcloud import WordCloud\n",
        "\n",
        "# Pemrosesan teks\n",
        "import re\n",
        "import string\n",
        "import requests\n",
        "import pickle\n",
        "from nltk.tokenize import word_tokenize\n",
        "from nltk.corpus import stopwords\n",
        "from nltk import download as nltk_unduh\n",
        "from Sastrawi.StopWordRemover.StopWordRemoverFactory import StopWordRemoverFactory\n",
        "\n",
        "# Mengunduh dependensi NLTK\n",
        "nltk_unduh('punkt')\n",
        "nltk_unduh('punkt_tab')\n",
        "nltk_unduh('stopwords')\n",
        "\n",
        "# Pustaka untuk pembelajaran mesin\n",
        "from sklearn.svm import SVC\n",
        "from sklearn.ensemble import RandomForestClassifier\n",
        "from sklearn.feature_extraction.text import TfidfVectorizer\n",
        "from sklearn.model_selection import train_test_split\n",
        "from sklearn.metrics import accuracy_score, precision_score, classification_report, confusion_matrix\n",
        "\n",
        "# Pustaka untuk pembelajaran mendalam\n",
        "import tensorflow as tf\n",
        "from tensorflow.keras.preprocessing.text import Tokenizer\n",
        "from tensorflow.keras.preprocessing.sequence import pad_sequences\n",
        "from tensorflow.keras.models import Sequential\n",
        "from tensorflow.keras.layers import Embedding, LSTM, Dense, Dropout, Flatten, GRU, SpatialDropout1D\n",
        "from tensorflow.keras.utils import to_categorical\n",
        "from tensorflow.keras.callbacks import EarlyStopping, Callback, ReduceLROnPlateau\n",
        "from tensorflow.keras.regularizers import l2\n",
        "from tensorflow.keras.optimizers import Adam\n",
        "\n",
        "# Menonaktifkan peringatan sistem\n",
        "import warnings\n",
        "warnings.filterwarnings(\"ignore\")"
      ]
    },
    {
      "cell_type": "markdown",
      "source": [
        "## **Memuat Dataset Ulasan Aplikasi Alfagift**"
      ],
      "metadata": {
        "id": "a97_-rVsPcmk"
      }
    },
    {
      "cell_type": "code",
      "source": [
        "# Memuat dataset ualasan dari file yang sudah di simpan di github\n",
        "df = pd.read_csv('https://raw.githubusercontent.com/riffabella/Submission-Analisis-Sentimen-Aplikasi-Alfagift/refs/heads/main/Dataset/alfagift_reviews.csv')\n",
        "\n",
        "# Menampilkan beberapa baris awal dari dataset\n",
        "print(\"Contoh data ulasan\")\n",
        "df.head()"
      ],
      "metadata": {
        "colab": {
          "base_uri": "https://localhost:8080/",
          "height": 223
        },
        "id": "FfUiTGtjPdiy",
        "outputId": "ef7ec0fd-7964-4105-f018-ba1f691658d5"
      },
      "execution_count": 2,
      "outputs": [
        {
          "output_type": "stream",
          "name": "stdout",
          "text": [
            "Contoh data ulasan\n"
          ]
        },
        {
          "output_type": "execute_result",
          "data": {
            "text/plain": [
              "                                             content  score\n",
              "0                    mantap semakin mudah berbelanja      5\n",
              "1  tiba tiba akun saya sudah ditutup aneh gabisa ...      3\n",
              "2  sebenernya aplikasi ini memudahkan hidup, cuma...      3\n",
              "3  udah 2 hari error kagak bisa di pakai, setiap ...      1\n",
              "4                                           ok bagus      5"
            ],
            "text/html": [
              "\n",
              "  <div id=\"df-2c12630f-82c6-4227-ad02-4671c53356fd\" class=\"colab-df-container\">\n",
              "    <div>\n",
              "<style scoped>\n",
              "    .dataframe tbody tr th:only-of-type {\n",
              "        vertical-align: middle;\n",
              "    }\n",
              "\n",
              "    .dataframe tbody tr th {\n",
              "        vertical-align: top;\n",
              "    }\n",
              "\n",
              "    .dataframe thead th {\n",
              "        text-align: right;\n",
              "    }\n",
              "</style>\n",
              "<table border=\"1\" class=\"dataframe\">\n",
              "  <thead>\n",
              "    <tr style=\"text-align: right;\">\n",
              "      <th></th>\n",
              "      <th>content</th>\n",
              "      <th>score</th>\n",
              "    </tr>\n",
              "  </thead>\n",
              "  <tbody>\n",
              "    <tr>\n",
              "      <th>0</th>\n",
              "      <td>mantap semakin mudah berbelanja</td>\n",
              "      <td>5</td>\n",
              "    </tr>\n",
              "    <tr>\n",
              "      <th>1</th>\n",
              "      <td>tiba tiba akun saya sudah ditutup aneh gabisa ...</td>\n",
              "      <td>3</td>\n",
              "    </tr>\n",
              "    <tr>\n",
              "      <th>2</th>\n",
              "      <td>sebenernya aplikasi ini memudahkan hidup, cuma...</td>\n",
              "      <td>3</td>\n",
              "    </tr>\n",
              "    <tr>\n",
              "      <th>3</th>\n",
              "      <td>udah 2 hari error kagak bisa di pakai, setiap ...</td>\n",
              "      <td>1</td>\n",
              "    </tr>\n",
              "    <tr>\n",
              "      <th>4</th>\n",
              "      <td>ok bagus</td>\n",
              "      <td>5</td>\n",
              "    </tr>\n",
              "  </tbody>\n",
              "</table>\n",
              "</div>\n",
              "    <div class=\"colab-df-buttons\">\n",
              "\n",
              "  <div class=\"colab-df-container\">\n",
              "    <button class=\"colab-df-convert\" onclick=\"convertToInteractive('df-2c12630f-82c6-4227-ad02-4671c53356fd')\"\n",
              "            title=\"Convert this dataframe to an interactive table.\"\n",
              "            style=\"display:none;\">\n",
              "\n",
              "  <svg xmlns=\"http://www.w3.org/2000/svg\" height=\"24px\" viewBox=\"0 -960 960 960\">\n",
              "    <path d=\"M120-120v-720h720v720H120Zm60-500h600v-160H180v160Zm220 220h160v-160H400v160Zm0 220h160v-160H400v160ZM180-400h160v-160H180v160Zm440 0h160v-160H620v160ZM180-180h160v-160H180v160Zm440 0h160v-160H620v160Z\"/>\n",
              "  </svg>\n",
              "    </button>\n",
              "\n",
              "  <style>\n",
              "    .colab-df-container {\n",
              "      display:flex;\n",
              "      gap: 12px;\n",
              "    }\n",
              "\n",
              "    .colab-df-convert {\n",
              "      background-color: #E8F0FE;\n",
              "      border: none;\n",
              "      border-radius: 50%;\n",
              "      cursor: pointer;\n",
              "      display: none;\n",
              "      fill: #1967D2;\n",
              "      height: 32px;\n",
              "      padding: 0 0 0 0;\n",
              "      width: 32px;\n",
              "    }\n",
              "\n",
              "    .colab-df-convert:hover {\n",
              "      background-color: #E2EBFA;\n",
              "      box-shadow: 0px 1px 2px rgba(60, 64, 67, 0.3), 0px 1px 3px 1px rgba(60, 64, 67, 0.15);\n",
              "      fill: #174EA6;\n",
              "    }\n",
              "\n",
              "    .colab-df-buttons div {\n",
              "      margin-bottom: 4px;\n",
              "    }\n",
              "\n",
              "    [theme=dark] .colab-df-convert {\n",
              "      background-color: #3B4455;\n",
              "      fill: #D2E3FC;\n",
              "    }\n",
              "\n",
              "    [theme=dark] .colab-df-convert:hover {\n",
              "      background-color: #434B5C;\n",
              "      box-shadow: 0px 1px 3px 1px rgba(0, 0, 0, 0.15);\n",
              "      filter: drop-shadow(0px 1px 2px rgba(0, 0, 0, 0.3));\n",
              "      fill: #FFFFFF;\n",
              "    }\n",
              "  </style>\n",
              "\n",
              "    <script>\n",
              "      const buttonEl =\n",
              "        document.querySelector('#df-2c12630f-82c6-4227-ad02-4671c53356fd button.colab-df-convert');\n",
              "      buttonEl.style.display =\n",
              "        google.colab.kernel.accessAllowed ? 'block' : 'none';\n",
              "\n",
              "      async function convertToInteractive(key) {\n",
              "        const element = document.querySelector('#df-2c12630f-82c6-4227-ad02-4671c53356fd');\n",
              "        const dataTable =\n",
              "          await google.colab.kernel.invokeFunction('convertToInteractive',\n",
              "                                                    [key], {});\n",
              "        if (!dataTable) return;\n",
              "\n",
              "        const docLinkHtml = 'Like what you see? Visit the ' +\n",
              "          '<a target=\"_blank\" href=https://colab.research.google.com/notebooks/data_table.ipynb>data table notebook</a>'\n",
              "          + ' to learn more about interactive tables.';\n",
              "        element.innerHTML = '';\n",
              "        dataTable['output_type'] = 'display_data';\n",
              "        await google.colab.output.renderOutput(dataTable, element);\n",
              "        const docLink = document.createElement('div');\n",
              "        docLink.innerHTML = docLinkHtml;\n",
              "        element.appendChild(docLink);\n",
              "      }\n",
              "    </script>\n",
              "  </div>\n",
              "\n",
              "\n",
              "<div id=\"df-791b031f-1675-4f60-876a-a3247ddfcff0\">\n",
              "  <button class=\"colab-df-quickchart\" onclick=\"quickchart('df-791b031f-1675-4f60-876a-a3247ddfcff0')\"\n",
              "            title=\"Suggest charts\"\n",
              "            style=\"display:none;\">\n",
              "\n",
              "<svg xmlns=\"http://www.w3.org/2000/svg\" height=\"24px\"viewBox=\"0 0 24 24\"\n",
              "     width=\"24px\">\n",
              "    <g>\n",
              "        <path d=\"M19 3H5c-1.1 0-2 .9-2 2v14c0 1.1.9 2 2 2h14c1.1 0 2-.9 2-2V5c0-1.1-.9-2-2-2zM9 17H7v-7h2v7zm4 0h-2V7h2v10zm4 0h-2v-4h2v4z\"/>\n",
              "    </g>\n",
              "</svg>\n",
              "  </button>\n",
              "\n",
              "<style>\n",
              "  .colab-df-quickchart {\n",
              "      --bg-color: #E8F0FE;\n",
              "      --fill-color: #1967D2;\n",
              "      --hover-bg-color: #E2EBFA;\n",
              "      --hover-fill-color: #174EA6;\n",
              "      --disabled-fill-color: #AAA;\n",
              "      --disabled-bg-color: #DDD;\n",
              "  }\n",
              "\n",
              "  [theme=dark] .colab-df-quickchart {\n",
              "      --bg-color: #3B4455;\n",
              "      --fill-color: #D2E3FC;\n",
              "      --hover-bg-color: #434B5C;\n",
              "      --hover-fill-color: #FFFFFF;\n",
              "      --disabled-bg-color: #3B4455;\n",
              "      --disabled-fill-color: #666;\n",
              "  }\n",
              "\n",
              "  .colab-df-quickchart {\n",
              "    background-color: var(--bg-color);\n",
              "    border: none;\n",
              "    border-radius: 50%;\n",
              "    cursor: pointer;\n",
              "    display: none;\n",
              "    fill: var(--fill-color);\n",
              "    height: 32px;\n",
              "    padding: 0;\n",
              "    width: 32px;\n",
              "  }\n",
              "\n",
              "  .colab-df-quickchart:hover {\n",
              "    background-color: var(--hover-bg-color);\n",
              "    box-shadow: 0 1px 2px rgba(60, 64, 67, 0.3), 0 1px 3px 1px rgba(60, 64, 67, 0.15);\n",
              "    fill: var(--button-hover-fill-color);\n",
              "  }\n",
              "\n",
              "  .colab-df-quickchart-complete:disabled,\n",
              "  .colab-df-quickchart-complete:disabled:hover {\n",
              "    background-color: var(--disabled-bg-color);\n",
              "    fill: var(--disabled-fill-color);\n",
              "    box-shadow: none;\n",
              "  }\n",
              "\n",
              "  .colab-df-spinner {\n",
              "    border: 2px solid var(--fill-color);\n",
              "    border-color: transparent;\n",
              "    border-bottom-color: var(--fill-color);\n",
              "    animation:\n",
              "      spin 1s steps(1) infinite;\n",
              "  }\n",
              "\n",
              "  @keyframes spin {\n",
              "    0% {\n",
              "      border-color: transparent;\n",
              "      border-bottom-color: var(--fill-color);\n",
              "      border-left-color: var(--fill-color);\n",
              "    }\n",
              "    20% {\n",
              "      border-color: transparent;\n",
              "      border-left-color: var(--fill-color);\n",
              "      border-top-color: var(--fill-color);\n",
              "    }\n",
              "    30% {\n",
              "      border-color: transparent;\n",
              "      border-left-color: var(--fill-color);\n",
              "      border-top-color: var(--fill-color);\n",
              "      border-right-color: var(--fill-color);\n",
              "    }\n",
              "    40% {\n",
              "      border-color: transparent;\n",
              "      border-right-color: var(--fill-color);\n",
              "      border-top-color: var(--fill-color);\n",
              "    }\n",
              "    60% {\n",
              "      border-color: transparent;\n",
              "      border-right-color: var(--fill-color);\n",
              "    }\n",
              "    80% {\n",
              "      border-color: transparent;\n",
              "      border-right-color: var(--fill-color);\n",
              "      border-bottom-color: var(--fill-color);\n",
              "    }\n",
              "    90% {\n",
              "      border-color: transparent;\n",
              "      border-bottom-color: var(--fill-color);\n",
              "    }\n",
              "  }\n",
              "</style>\n",
              "\n",
              "  <script>\n",
              "    async function quickchart(key) {\n",
              "      const quickchartButtonEl =\n",
              "        document.querySelector('#' + key + ' button');\n",
              "      quickchartButtonEl.disabled = true;  // To prevent multiple clicks.\n",
              "      quickchartButtonEl.classList.add('colab-df-spinner');\n",
              "      try {\n",
              "        const charts = await google.colab.kernel.invokeFunction(\n",
              "            'suggestCharts', [key], {});\n",
              "      } catch (error) {\n",
              "        console.error('Error during call to suggestCharts:', error);\n",
              "      }\n",
              "      quickchartButtonEl.classList.remove('colab-df-spinner');\n",
              "      quickchartButtonEl.classList.add('colab-df-quickchart-complete');\n",
              "    }\n",
              "    (() => {\n",
              "      let quickchartButtonEl =\n",
              "        document.querySelector('#df-791b031f-1675-4f60-876a-a3247ddfcff0 button');\n",
              "      quickchartButtonEl.style.display =\n",
              "        google.colab.kernel.accessAllowed ? 'block' : 'none';\n",
              "    })();\n",
              "  </script>\n",
              "</div>\n",
              "\n",
              "    </div>\n",
              "  </div>\n"
            ],
            "application/vnd.google.colaboratory.intrinsic+json": {
              "type": "dataframe",
              "variable_name": "df",
              "summary": "{\n  \"name\": \"df\",\n  \"rows\": 20000,\n  \"fields\": [\n    {\n      \"column\": \"content\",\n      \"properties\": {\n        \"dtype\": \"string\",\n        \"num_unique_values\": 16459,\n        \"samples\": [\n          \"memudahkan belanja\\ud83d\\ude0d\",\n          \"Alfagif yes, Suka bgt.di samping byk promo tp jg bisa di anterin belanjanya di depan rumah free ongkir jg\",\n          \"Sangat membantu mengecek promo\"\n        ],\n        \"semantic_type\": \"\",\n        \"description\": \"\"\n      }\n    },\n    {\n      \"column\": \"score\",\n      \"properties\": {\n        \"dtype\": \"number\",\n        \"std\": 1,\n        \"min\": 1,\n        \"max\": 5,\n        \"num_unique_values\": 5,\n        \"samples\": [\n          3,\n          4,\n          1\n        ],\n        \"semantic_type\": \"\",\n        \"description\": \"\"\n      }\n    }\n  ]\n}"
            }
          },
          "metadata": {},
          "execution_count": 2
        }
      ]
    },
    {
      "cell_type": "markdown",
      "source": [
        "## **Exploratory Data Analysis (EDA)**"
      ],
      "metadata": {
        "id": "sAYtshqaQYya"
      }
    },
    {
      "cell_type": "code",
      "source": [
        "# Menampilkan informasi dasar dari dataset\n",
        "df.info()\n",
        "\n",
        "# Mengecek apakah ada nilai kosong di setiap kolom\n",
        "print(\"Nilai yang hilang:\")\n",
        "print(df.isnull().sum())"
      ],
      "metadata": {
        "colab": {
          "base_uri": "https://localhost:8080/"
        },
        "id": "QtMwxLMDQZVr",
        "outputId": "b2397e9e-1064-4c3d-8847-c177311cfad0"
      },
      "execution_count": 3,
      "outputs": [
        {
          "output_type": "stream",
          "name": "stdout",
          "text": [
            "<class 'pandas.core.frame.DataFrame'>\n",
            "RangeIndex: 20000 entries, 0 to 19999\n",
            "Data columns (total 2 columns):\n",
            " #   Column   Non-Null Count  Dtype \n",
            "---  ------   --------------  ----- \n",
            " 0   content  20000 non-null  object\n",
            " 1   score    20000 non-null  int64 \n",
            "dtypes: int64(1), object(1)\n",
            "memory usage: 312.6+ KB\n",
            "Nilai yang hilang:\n",
            "content    0\n",
            "score      0\n",
            "dtype: int64\n"
          ]
        }
      ]
    },
    {
      "cell_type": "markdown",
      "source": [
        "## **Visualisasi Distribusi Rating Ulasan**"
      ],
      "metadata": {
        "id": "OL7lAZHTQ0jM"
      }
    },
    {
      "cell_type": "code",
      "source": [
        "# Visualisasi distribusi rating pengguna terhadap aplikasi Grab\n",
        "plt.figure(figsize=(6, 4))\n",
        "sns.countplot(x=df['score'], palette='viridis')\n",
        "plt.title(\"Distribusi Sentimen\")\n",
        "plt.xlabel(\"Rating\")\n",
        "plt.ylabel(\"Jumlah\")\n",
        "plt.show()\n",
        "\n",
        "# Menampilkan jumlah ulasan berdasarkan masing-masing skor\n",
        "print(df['score'].value_counts())"
      ],
      "metadata": {
        "colab": {
          "base_uri": "https://localhost:8080/",
          "height": 531
        },
        "id": "K0uHsVitQvEl",
        "outputId": "39aa9fd8-7e8a-43ef-bd66-1ed71d9eb53f"
      },
      "execution_count": 4,
      "outputs": [
        {
          "output_type": "display_data",
          "data": {
            "text/plain": [
              "<Figure size 600x400 with 1 Axes>"
            ],
            "image/png": "[encoded data removed]"
          },
          "metadata": {}
        },
        {
          "output_type": "stream",
          "name": "stdout",
          "text": [
            "score\n",
            "5    16072\n",
            "1     2512\n",
            "2      526\n",
            "3      474\n",
            "4      416\n",
            "Name: count, dtype: int64\n"
          ]
        }
      ]
    },
    {
      "cell_type": "markdown",
      "source": [
        "## **Teks Preprocessing**"
      ],
      "metadata": {
        "id": "-_51ynxeqW_d"
      }
    },
    {
      "cell_type": "markdown",
      "source": [
        "**Fungsi Pembersihan Teks Ulasan**"
      ],
      "metadata": {
        "id": "9YLs5wbOrqn0"
      }
    },
    {
      "cell_type": "code",
      "source": [
        "# Fungsi untuk membersihkan teks ulasan aplikasi\n",
        "def proses_teks(teks):\n",
        "    teks = re.sub(r'@[A-Za-z0-9_]+', '', teks)       # Menghapus mention (@username)\n",
        "    teks = re.sub(r'#[A-Za-z0-9_]+', '', teks)       # Menghapus hashtag (#hashtag)\n",
        "    teks = re.sub(r'[²]', ' ', teks)                 # Menghapus karakter khusus tertentu\n",
        "    teks = re.sub(r'\\d+', ' ', teks)                 # Menghapus angka\n",
        "    teks = re.sub(r'[^\\w\\s]', ' ', teks)             # Menghapus tanda baca\n",
        "    teks = teks.strip()                              # Menghapus spasi ekstra\n",
        "    teks = teks.lower()                              # Konversi ke huruf kecil\n",
        "    return teks"
      ],
      "metadata": {
        "id": "25GQ0TOZqima"
      },
      "execution_count": 5,
      "outputs": []
    },
    {
      "cell_type": "markdown",
      "source": [
        "**Fungsi Tokenisasi Teks**"
      ],
      "metadata": {
        "id": "6_PHdk3Lq0GJ"
      }
    },
    {
      "cell_type": "code",
      "source": [
        "# Fungsi untuk memecah teks menjadi kata-kata (token)\n",
        "def tokenisasi_teks(teks):\n",
        "    teks = word_tokenize(teks)  # Mengubah teks menjadi list token\n",
        "    return teks"
      ],
      "metadata": {
        "id": "LqqIIOGhrHOh"
      },
      "execution_count": 6,
      "outputs": []
    },
    {
      "cell_type": "markdown",
      "source": [
        "**Fungsi Penghapuasan Stopwords**"
      ],
      "metadata": {
        "id": "TMV2NkWiryQp"
      }
    },
    {
      "cell_type": "code",
      "source": [
        "# Fungsi untuk menghapus stopwords dari list token\n",
        "def filter_stopwords(teks):\n",
        "    # Memuat stopwords Bahasa Indonesia dan Inggris\n",
        "    daftar_stopwords = set(stopwords.words('indonesian'))\n",
        "    daftar_stopwords_english = set(stopwords.words('english'))\n",
        "\n",
        "    # Menggabungkan stopwords Bahasa Indonesia dan Inggris\n",
        "    daftar_stopwords.update(daftar_stopwords_english)\n",
        "\n",
        "    # Menambahkan stopwords tambahan (umum dalam bahasa informal)\n",
        "    daftar_stopwords.update([\n",
        "        'iya', 'yaa', 'gak', 'nya', 'na', 'sih', 'ku',\n",
        "        'di', 'ga', 'ya', 'gaa', 'loh', 'kah', 'woi', 'woii', 'woy'\n",
        "    ])\n",
        "\n",
        "    # Memfilter token yang bukan stopwords\n",
        "    hasil_filter = [kata for kata in teks if kata not in daftar_stopwords]\n",
        "\n",
        "    return hasil_filter"
      ],
      "metadata": {
        "id": "WBTZNy_xr4Ea"
      },
      "execution_count": 7,
      "outputs": []
    },
    {
      "cell_type": "markdown",
      "source": [
        "**Pemrosesan Kata Slang**"
      ],
      "metadata": {
        "id": "hC2AJeQIsMkx"
      }
    },
    {
      "cell_type": "code",
      "source": [
        "slangwords = {\n",
        "    \"gak\": \"tidak\",\n",
        "    \"ga\": \"tidak\",\n",
        "    \"gabisa\": \"tidak bisa\",\n",
        "    \"gajelas\": \"tidak jelas\",\n",
        "    \"gitu\": \"seperti itu\",\n",
        "    \"gimana\": \"bagaimana\",\n",
        "    \"gitu aja\": \"hanya begitu\",\n",
        "    \"bgt\": \"banget\",\n",
        "    \"bet\": \"banget\",\n",
        "    \"nyh\": \"ini\",\n",
        "    \"udh\": \"sudah\",\n",
        "    \"udah\": \"sudah\",\n",
        "    \"kagak\": \"tidak\",\n",
        "    \"nggak\": \"tidak\",\n",
        "    \"ane\": \"saya\",\n",
        "    \"kesel\": \"marah\",\n",
        "    \"trauma\": \"kecewa berat\",\n",
        "    \"sumpah ya\": \"\",\n",
        "    \"capek\": \"lelah\",\n",
        "    \"rusakkk\": \"rusak\",\n",
        "    \"kecewaaa\": \"kecewa\",\n",
        "    \"lelet\": \"lambat\",\n",
        "    \"bet dah\": \"banget\",\n",
        "    \"taro\": \"letak\",\n",
        "    \"kapok\": \"jera\",\n",
        "    \"bener²\": \"benar-benar\",\n",
        "    \"ngirimin\": \"mengirimkan\",\n",
        "    \"nongkrong\": \"duduk santai\",\n",
        "    \"sampe\": \"sampai\",\n",
        "    \"cekout\": \"checkout\",\n",
        "    \"bnget\": \"banget\",\n",
        "    \"dikirim-kirim\": \"belum dikirim\",\n",
        "    \"diangkat-angkat\": \"tidak diangkat\",\n",
        "    \"pake\": \"pakai\",\n",
        "    \"apk\": \"aplikasi\",\n",
        "    \"distop\": \"dihentikan\"\n",
        "}\n",
        "\n",
        "def fix_slangwords(text):\n",
        "    text = text.lower()\n",
        "\n",
        "    # Ganti frasa slang (yang terdiri dari >1 kata) dulu\n",
        "    for slang, formal in slangwords.items():\n",
        "        if \" \" in slang:\n",
        "            text = re.sub(r'\\b' + re.escape(slang) + r'\\b', formal, text)\n",
        "\n",
        "    # Ganti kata slang satu per satu\n",
        "    words = text.split()\n",
        "    fixed_words = []\n",
        "\n",
        "    for word in words:\n",
        "        if word in slangwords:\n",
        "            fixed_words.append(slangwords[word])\n",
        "        else:\n",
        "            fixed_words.append(word)\n",
        "\n",
        "    return ' '.join(fixed_words)"
      ],
      "metadata": {
        "id": "xiEJm6hQPq8N"
      },
      "execution_count": 9,
      "outputs": []
    },
    {
      "cell_type": "markdown",
      "source": [
        "**Pipeline Pembersihan dan Normalisasi Teks**"
      ],
      "metadata": {
        "id": "TuVa4BI9PrY5"
      }
    },
    {
      "cell_type": "code",
      "source": [
        "# Menggabungkan daftar token menjadi satu kalimat\n",
        "def gabungkan_ke_kalimat(tokens):\n",
        "    return ' '.join(tokens)\n",
        "\n",
        "# Bersihkan teks dan simpan hasilnya di kolom 'clean_text'\n",
        "df['clean_text'] = df['content'].apply(proses_teks) # Changed 'bersihkan_teks' to 'proses_teks'\n",
        "\n",
        "# Ganti kata slang dengan kata standar dan simpan di 'text_slangwords'\n",
        "df['text_slangwords'] = df['clean_text'].apply(fix_slangwords)\n",
        "\n",
        "# Tokenisasi teks (pisah menjadi kata-kata) dan simpan di 'text_tokenizing'\n",
        "df['text_tokenizing'] = df['text_slangwords'].apply(tokenisasi_teks)\n",
        "\n",
        "# Hapus stopwords (kata umum) dan simpan hasilnya di 'text_stopword'\n",
        "df['text_stopword'] = df['text_tokenizing'].apply(filter_stopwords)\n",
        "\n",
        "# Gabungkan token menjadi kalimat dan simpan di 'clean_content'\n",
        "df['clean_content'] = df['text_stopword'].apply(gabungkan_ke_kalimat)"
      ],
      "metadata": {
        "id": "m7yexsXVPsSh"
      },
      "execution_count": 10,
      "outputs": []
    },
    {
      "cell_type": "markdown",
      "source": [
        "**Memuat Leksikon Sentimen (Posistive & Negative WOrd List**"
      ],
      "metadata": {
        "id": "S0GJDoFyYD3_"
      }
    },
    {
      "cell_type": "code",
      "source": [
        "# Fungsi untuk mengambil data leksikon secara aman\n",
        "def ambil_lexikon(url):\n",
        "    response = requests.get(url)\n",
        "    if response.status_code == 200:\n",
        "        kata_kata = set(kata.strip() for kata in response.text.split(\"\\n\") if kata.strip())\n",
        "        return kata_kata\n",
        "    else:\n",
        "        print(f\"Gagal mengambil data dari {url}, kode status: {response.status_code}\")\n",
        "        return set()\n",
        "\n",
        "# Unduh dan muat leksikon kata positif\n",
        "url_positif = \"https://raw.githubusercontent.com/masdevid/ID-OpinionWords/master/positive.txt\"\n",
        "lexikon_positif = ambil_lexikon(url_positif)\n",
        "\n",
        "# Unduh dan muat leksikon kata negatif\n",
        "url_negatif = \"https://raw.githubusercontent.com/masdevid/ID-OpinionWords/master/negative.txt\"\n",
        "lexikon_negatif = ambil_lexikon(url_negatif)\n",
        "\n",
        "# Tampilkan statistik leksikon\n",
        "print(f\"Jumlah kata positif: {len(lexikon_positif)}\")\n",
        "print(f\"Jumlah kata negatif: {len(lexikon_negatif)}\")"
      ],
      "metadata": {
        "colab": {
          "base_uri": "https://localhost:8080/"
        },
        "id": "JZRP-P2EYDHY",
        "outputId": "1c4de2a1-8c8f-435f-c462-e2d71ae10d1c"
      },
      "execution_count": 11,
      "outputs": [
        {
          "output_type": "stream",
          "name": "stdout",
          "text": [
            "Jumlah kata positif: 1182\n",
            "Jumlah kata negatif: 2402\n"
          ]
        }
      ]
    },
    {
      "cell_type": "markdown",
      "source": [
        "**Menentukan Sentimen Ulasan Berdasarkan Leksikon**"
      ],
      "metadata": {
        "id": "0lwR-AY7Yll8"
      }
    },
    {
      "cell_type": "code",
      "source": [
        "# Menentukan label sentimen berdasarkan leksikon\n",
        "def tentukan_sentimen(teks):\n",
        "    skor = 0\n",
        "    for kata in teks:\n",
        "        if kata in lexikon_positif:\n",
        "            skor += 1\n",
        "        if kata in lexikon_negatif:\n",
        "            skor -= 1\n",
        "\n",
        "    if skor > 0:\n",
        "        sentimen = 'positif'\n",
        "    elif skor < 0:\n",
        "        sentimen = 'negatif'\n",
        "    else:\n",
        "        sentimen = 'netral'\n",
        "\n",
        "    return skor, sentimen\n",
        "\n",
        "# Terapkan pelabelan sentimen ke kolom 'text_stopword'\n",
        "hasil_sentimen = df['text_stopword'].apply(tentukan_sentimen)\n",
        "hasil_sentimen = list(zip(*hasil_sentimen))\n",
        "df['sentimen_skor'] = hasil_sentimen[0]\n",
        "df['sentimen'] = hasil_sentimen[1]\n",
        "\n",
        "# Tampilkan jumlah masing-masing kategori sentimen\n",
        "print(df['sentimen'].value_counts())"
      ],
      "metadata": {
        "colab": {
          "base_uri": "https://localhost:8080/"
        },
        "id": "rEnQc4dhYpif",
        "outputId": "3ffd771d-9b20-42ed-ddc9-169091454e38"
      },
      "execution_count": 12,
      "outputs": [
        {
          "output_type": "stream",
          "name": "stdout",
          "text": [
            "sentimen\n",
            "positif    10274\n",
            "netral      7783\n",
            "negatif     1943\n",
            "Name: count, dtype: int64\n"
          ]
        }
      ]
    },
    {
      "cell_type": "markdown",
      "source": [
        "## **Preprocessing Data Model**"
      ],
      "metadata": {
        "id": "vZ2UEkxIQ-mo"
      }
    },
    {
      "cell_type": "markdown",
      "source": [
        "**Menyiapkan Fitur dan Label untuk Model Machine Learning**"
      ],
      "metadata": {
        "id": "2Knna-k3ZL4I"
      }
    },
    {
      "cell_type": "code",
      "source": [
        "# Ambil kolom 'clean_content' sebagai fitur (X) dan 'sentimen' sebagai label (y)\n",
        "fitur = df['clean_content']\n",
        "label = df['sentimen'].map({'positif': 2, 'netral': 1, 'negatif': 0})  # Label numerik"
      ],
      "metadata": {
        "id": "qemN4M2RZSez"
      },
      "execution_count": 13,
      "outputs": []
    },
    {
      "cell_type": "markdown",
      "source": [
        "## **Feature Engineering**"
      ],
      "metadata": {
        "id": "Iawns6AUT4pb"
      }
    },
    {
      "cell_type": "markdown",
      "source": [
        "**Vektorisasi Teks Menggunakan TF-IDF**"
      ],
      "metadata": {
        "id": "_URHIQg4Zp9x"
      }
    },
    {
      "cell_type": "code",
      "source": [
        "# Transformasi teks ke vektor angka menggunakan TF-IDF\n",
        "tfidf = TfidfVectorizer(max_features=10000)\n",
        "fitur_tfidf = tfidf.fit_transform(fitur)\n",
        "\n",
        "# Menampilkan dimensi data hasil vektorisasi\n",
        "print(\"Ringkasan Fitur dan Data:\")\n",
        "print(f\"Dimensi fitur TF-IDF: {fitur_tfidf.shape}\")"
      ],
      "metadata": {
        "colab": {
          "base_uri": "https://localhost:8080/"
        },
        "id": "bv20kquOZuDQ",
        "outputId": "7519eef6-bd7d-4334-e6ff-5db3ba631590"
      },
      "execution_count": 14,
      "outputs": [
        {
          "output_type": "stream",
          "name": "stdout",
          "text": [
            "Ringkasan Fitur dan Data:\n",
            "Dimensi fitur TF-IDF: (20000, 10000)\n"
          ]
        }
      ]
    },
    {
      "cell_type": "markdown",
      "source": [
        "**Praprocessing Teks untuk Modek LSTM**"
      ],
      "metadata": {
        "id": "N-afiDHpZ0VD"
      }
    },
    {
      "cell_type": "code",
      "source": [
        "# Menginisialisasi tokenizer dan membatasi jumlah kata unik sebanyak 10.000\n",
        "tokenizer = Tokenizer(num_words=10000)\n",
        "\n",
        "# Menyesuaikan tokenizer dengan teks yang telah dibersihkan\n",
        "tokenizer.fit_on_texts(fitur)\n",
        "\n",
        "# Mengubah teks menjadi urutan angka berdasarkan kamus tokenizer\n",
        "fitur_sekuensial = tokenizer.texts_to_sequences(fitur)\n",
        "\n",
        "# Menyamakan panjang urutan dengan padding (maksimal 100 kata)\n",
        "fitur_padat = pad_sequences(fitur_sekuensial, maxlen=100)"
      ],
      "metadata": {
        "id": "wpaUsXHHZzAz"
      },
      "execution_count": 15,
      "outputs": []
    },
    {
      "cell_type": "markdown",
      "source": [
        "**Menampilkan Statistik Data untuk Pelatihan Model**"
      ],
      "metadata": {
        "id": "VYAmCMAqZ_7-"
      }
    },
    {
      "cell_type": "code",
      "source": [
        "# Menghitung jumlah kelas sentimen\n",
        "jumlah_kelas = len(np.unique(label))\n",
        "print(f\"Jumlah kelas: {jumlah_kelas}\")\n",
        "\n",
        "# Menampilkan dimensi dari fitur hasil padding\n",
        "print(f\"Dimensi urutan fitur: {fitur_padat.shape}\")\n",
        "\n",
        "# Menampilkan ukuran kosa kata dari tokenizer\n",
        "kosa_kata_index = tokenizer.word_index\n",
        "print(f\"\\nUkuran kosa kata: {len(kosa_kata_index)} kata\")"
      ],
      "metadata": {
        "colab": {
          "base_uri": "https://localhost:8080/"
        },
        "id": "rkjihD-OZl6g",
        "outputId": "eec81778-5ae5-4374-bf16-8afec052674b"
      },
      "execution_count": 16,
      "outputs": [
        {
          "output_type": "stream",
          "name": "stdout",
          "text": [
            "Jumlah kelas: 3\n",
            "Dimensi urutan fitur: (20000, 100)\n",
            "\n",
            "Ukuran kosa kata: 10171 kata\n"
          ]
        }
      ]
    },
    {
      "cell_type": "markdown",
      "source": [
        "## **Model Training dan Evaluation**"
      ],
      "metadata": {
        "id": "r8unPy9qaLbc"
      }
    },
    {
      "cell_type": "markdown",
      "source": [
        "**Deep Learning Model (LSTM)**"
      ],
      "metadata": {
        "id": "x6WQL8PRaSUu"
      }
    },
    {
      "cell_type": "markdown",
      "source": [
        "Membangun dan Melatih Model LSTM untuk Klasifikasi Sentimen"
      ],
      "metadata": {
        "id": "L9NNJV8Kaino"
      }
    },
    {
      "cell_type": "code",
      "source": [
        "# Membagi data menjadi: pelatihan (70%), pengujian (20%), dan validasi (10%)\n",
        "fitur_latih_lstm, fitur_uji_lstm, label_latih_lstm, label_uji_lstm = train_test_split(\n",
        "    fitur_padat, label, test_size=0.2, random_state=42\n",
        ")\n",
        "\n",
        "# Mengambil 10% dari 80% data latih sebagai data validasi (0.1 / 0.8 = 0.125)\n",
        "fitur_latih_lstm, fitur_validasi_lstm, label_latih_lstm, label_validasi_lstm = train_test_split(\n",
        "    fitur_latih_lstm, label_latih_lstm, test_size=0.125, random_state=42\n",
        ")\n",
        "\n",
        "# Menampilkan jumlah sampel di setiap subset\n",
        "print(\"Pembagian Sampel:\")\n",
        "print(f\"Set pelatihan: {fitur_latih_lstm.shape[0]} sampel\")\n",
        "print(f\"Set validasi : {fitur_validasi_lstm.shape[0]} sampel\")\n",
        "print(f\"Set pengujian: {fitur_uji_lstm.shape[0]} sampel\")"
      ],
      "metadata": {
        "colab": {
          "base_uri": "https://localhost:8080/"
        },
        "id": "I8PiweMmadJh",
        "outputId": "895d687d-862c-48d2-a353-3944d43bb074"
      },
      "execution_count": 19,
      "outputs": [
        {
          "output_type": "stream",
          "name": "stdout",
          "text": [
            "Pembagian Sampel:\n",
            "Set pelatihan: 14000 sampel\n",
            "Set validasi : 2000 sampel\n",
            "Set pengujian: 4000 sampel\n"
          ]
        }
      ]
    },
    {
      "cell_type": "markdown",
      "source": [
        "Membangun dan Melatih Model LSTM untuk Klasifikasi Sentimen"
      ],
      "metadata": {
        "id": "jQaq_eHPat0v"
      }
    },
    {
      "cell_type": "code",
      "source": [
        "# Membuat model LSTM untuk klasifikasi sentimen\n",
        "model_lstm = Sequential([\n",
        "    Embedding(input_dim=10000, output_dim=128, input_length=100),       # Representasi kata dalam vektor\n",
        "    SpatialDropout1D(0.4),                                               # Dropout untuk regularisasi\n",
        "    LSTM(128, dropout=0.3, recurrent_dropout=0.3),                       # LSTM untuk memahami urutan kata\n",
        "    Dense(3, activation='softmax')                                       # Output 3 kelas sentimen\n",
        "])\n",
        "\n",
        "# Menyusun model dengan loss dan optimizer\n",
        "model_lstm.compile(\n",
        "    loss='sparse_categorical_crossentropy',\n",
        "    optimizer=Adam(),\n",
        "    metrics=['accuracy']\n",
        ")\n",
        "\n",
        "# Callback untuk kontrol pelatihan\n",
        "callback_early_stopping = EarlyStopping(\n",
        "    monitor='val_loss',\n",
        "    patience=2,\n",
        "    restore_best_weights=True\n",
        ")\n",
        "callback_lr_reduction = ReduceLROnPlateau(\n",
        "    monitor='val_loss',\n",
        "    factor=0.5,\n",
        "    patience=2\n",
        ")\n",
        "\n",
        "# Daftar callback\n",
        "callbacks = [callback_early_stopping, callback_lr_reduction]\n",
        "\n",
        "# Menjalankan pelatihan model\n",
        "riwayat_latihan = model_lstm.fit(\n",
        "    fitur_latih_lstm, label_latih_lstm,\n",
        "    validation_data=(fitur_validasi_lstm, label_validasi_lstm),\n",
        "    epochs=15,\n",
        "    batch_size=64,\n",
        "    verbose=1,\n",
        "    callbacks=callbacks\n",
        ")"
      ],
      "metadata": {
        "colab": {
          "base_uri": "https://localhost:8080/"
        },
        "id": "Mz4BCtPzabXW",
        "outputId": "6de7a6de-7f98-4bad-daf2-79bf853afc47"
      },
      "execution_count": 18,
      "outputs": [
        {
          "output_type": "stream",
          "name": "stdout",
          "text": [
            "Epoch 1/15\n",
            "\u001b[1m219/219\u001b[0m \u001b[32m━━━━━━━━━━━━━━━━━━━━\u001b[0m\u001b[37m\u001b[0m \u001b[1m79s\u001b[0m 322ms/step - accuracy: 0.6686 - loss: 0.7277 - val_accuracy: 0.8920 - val_loss: 0.2739 - learning_rate: 0.0010\n",
            "Epoch 2/15\n",
            "\u001b[1m219/219\u001b[0m \u001b[32m━━━━━━━━━━━━━━━━━━━━\u001b[0m\u001b[37m\u001b[0m \u001b[1m74s\u001b[0m 336ms/step - accuracy: 0.9163 - loss: 0.2214 - val_accuracy: 0.9475 - val_loss: 0.1435 - learning_rate: 0.0010\n",
            "Epoch 3/15\n",
            "\u001b[1m219/219\u001b[0m \u001b[32m━━━━━━━━━━━━━━━━━━━━\u001b[0m\u001b[37m\u001b[0m \u001b[1m76s\u001b[0m 310ms/step - accuracy: 0.9660 - loss: 0.1014 - val_accuracy: 0.9605 - val_loss: 0.1245 - learning_rate: 0.0010\n",
            "Epoch 4/15\n",
            "\u001b[1m219/219\u001b[0m \u001b[32m━━━━━━━━━━━━━━━━━━━━\u001b[0m\u001b[37m\u001b[0m \u001b[1m69s\u001b[0m 315ms/step - accuracy: 0.9822 - loss: 0.0554 - val_accuracy: 0.9575 - val_loss: 0.1257 - learning_rate: 0.0010\n",
            "Epoch 5/15\n",
            "\u001b[1m219/219\u001b[0m \u001b[32m━━━━━━━━━━━━━━━━━━━━\u001b[0m\u001b[37m\u001b[0m \u001b[1m83s\u001b[0m 319ms/step - accuracy: 0.9891 - loss: 0.0344 - val_accuracy: 0.9640 - val_loss: 0.1162 - learning_rate: 0.0010\n",
            "Epoch 6/15\n",
            "\u001b[1m219/219\u001b[0m \u001b[32m━━━━━━━━━━━━━━━━━━━━\u001b[0m\u001b[37m\u001b[0m \u001b[1m80s\u001b[0m 313ms/step - accuracy: 0.9934 - loss: 0.0246 - val_accuracy: 0.9580 - val_loss: 0.1320 - learning_rate: 0.0010\n",
            "Epoch 7/15\n",
            "\u001b[1m219/219\u001b[0m \u001b[32m━━━━━━━━━━━━━━━━━━━━\u001b[0m\u001b[37m\u001b[0m \u001b[1m82s\u001b[0m 314ms/step - accuracy: 0.9935 - loss: 0.0214 - val_accuracy: 0.9615 - val_loss: 0.1475 - learning_rate: 0.0010\n"
          ]
        }
      ]
    },
    {
      "cell_type": "markdown",
      "source": [
        "Evaluasi dan Visualisasi Performa Model LSTM"
      ],
      "metadata": {
        "id": "NN4H2s6TdyNp"
      }
    },
    {
      "cell_type": "code",
      "source": [
        "# Mengambil nilai akurasi pelatihan terakhir\n",
        "akurasi_latih = riwayat_latihan.history['accuracy']\n",
        "\n",
        "# Evaluasi terhadap data pengujian\n",
        "kerugian_uji, akurasi_lstm = model_lstm.evaluate(fitur_uji_lstm, label_uji_lstm)\n",
        "\n",
        "# Menampilkan hasil evaluasi\n",
        "print(\"\\nEvaluasi Model LSTM\")\n",
        "print(f\"Akurasi pelatihan per epoch terakhir: {akurasi_latih[-1]:.4f}\")\n",
        "print(f\"Akurasi pengujian akhir: {akurasi_lstm:.4f}\")\n",
        "\n",
        "# Prediksi terhadap data uji\n",
        "y_prediksi = np.argmax(model_lstm.predict(fitur_uji_lstm), axis=1)\n",
        "\n",
        "# Menampilkan laporan klasifikasi berdasarkan label sebenarnya\n",
        "print(\"\\nLaporan Klasifikasi:\")\n",
        "print(classification_report(label_uji_lstm, y_prediksi, target_names=['negatif', 'netral', 'positif']))\n",
        "\n",
        "# Visualisasi loss dan akurasi selama pelatihan\n",
        "plt.figure(figsize=(12, 6))\n",
        "\n",
        "# Plot loss\n",
        "plt.subplot(1, 2, 1)\n",
        "plt.plot(riwayat_latihan.history['loss'], label='Loss Pelatihan')\n",
        "plt.plot(riwayat_latihan.history['val_loss'], label='Loss Validasi')\n",
        "plt.title('Perkembangan Loss Selama Pelatihan')\n",
        "plt.xlabel('Epoch')\n",
        "plt.ylabel('Loss')\n",
        "plt.legend()\n",
        "\n",
        "# Plot akurasi\n",
        "plt.subplot(1, 2, 2)\n",
        "plt.plot(riwayat_latihan.history['accuracy'], label='Akurasi Pelatihan')\n",
        "plt.plot(riwayat_latihan.history['val_accuracy'], label='Akurasi Validasi')\n",
        "plt.title('Perkembangan Akurasi Selama Pelatihan')\n",
        "plt.xlabel('Epoch')\n",
        "plt.ylabel('Akurasi')\n",
        "plt.legend()\n",
        "\n",
        "plt.tight_layout()\n",
        "plt.show()"
      ],
      "metadata": {
        "colab": {
          "base_uri": "https://localhost:8080/",
          "height": 649
        },
        "id": "PM8W2tmod4Dd",
        "outputId": "cd840f7c-1a94-4daa-f8df-ac38ffec8fd9"
      },
      "execution_count": 20,
      "outputs": [
        {
          "output_type": "stream",
          "name": "stdout",
          "text": [
            "\u001b[1m125/125\u001b[0m \u001b[32m━━━━━━━━━━━━━━━━━━━━\u001b[0m\u001b[37m\u001b[0m \u001b[1m8s\u001b[0m 61ms/step - accuracy: 0.9593 - loss: 0.1201\n",
            "\n",
            "Evaluasi Model LSTM\n",
            "Akurasi pelatihan per epoch terakhir: 0.9939\n",
            "Akurasi pengujian akhir: 0.9622\n",
            "\u001b[1m125/125\u001b[0m \u001b[32m━━━━━━━━━━━━━━━━━━━━\u001b[0m\u001b[37m\u001b[0m \u001b[1m8s\u001b[0m 58ms/step\n",
            "\n",
            "Laporan Klasifikasi:\n",
            "              precision    recall  f1-score   support\n",
            "\n",
            "     negatif       0.88      0.93      0.91       369\n",
            "      netral       0.96      0.95      0.95      1540\n",
            "     positif       0.98      0.98      0.98      2091\n",
            "\n",
            "    accuracy                           0.96      4000\n",
            "   macro avg       0.94      0.95      0.95      4000\n",
            "weighted avg       0.96      0.96      0.96      4000\n",
            "\n"
          ]
        },
        {
          "output_type": "display_data",
          "data": {
            "text/plain": [
              "<Figure size 1200x600 with 2 Axes>"
            ],
            "image/png": "[encoded data removed]"
          },
          "metadata": {}
        }
      ]
    },
    {
      "cell_type": "markdown",
      "source": [
        "Menghitung Akurasi, Precision, Recall, dan F1-score dari Confusion Matrix"
      ],
      "metadata": {
        "id": "sZdVw22xeWGT"
      }
    },
    {
      "cell_type": "code",
      "source": [
        "# Ambil nilai dari confusion matrix\n",
        "TN, FP, FN, TP = None, None, None, None  # placeholder untuk binary, kita hitung secara multi-kelas\n",
        "\n",
        "# Mengambil nilai matrix\n",
        "cm = confusion_matrix(label_uji_lstm, y_prediksi)\n",
        "print(\"Confusion Matrix:\")\n",
        "print(cm)\n",
        "\n",
        "# Hitung metrik per kelas\n",
        "for i, kelas in enumerate(['Negatif', 'Netral', 'Positif']):\n",
        "    TP = cm[i, i]\n",
        "    FP = cm[:, i].sum() - TP\n",
        "    FN = cm[i, :].sum() - TP\n",
        "    TN = cm.sum() - (TP + FP + FN)\n",
        "\n",
        "    precision = TP / (TP + FP) if (TP + FP) != 0 else 0\n",
        "    recall = TP / (TP + FN) if (TP + FN) != 0 else 0\n",
        "    f1 = 2 * precision * recall / (precision + recall) if (precision + recall) != 0 else 0\n",
        "\n",
        "    print(f\"\\nKelas: {kelas}\")\n",
        "    print(f\"  Precision: {precision:.4f}\")\n",
        "    print(f\"  Recall:    {recall:.4f}\")\n",
        "    print(f\"  F1-score:  {f1:.4f}\")\n",
        "\n",
        "# Hitung akurasi keseluruhan\n",
        "akurasi_total = np.trace(cm) / np.sum(cm)\n",
        "print(f\"\\nAkurasi Keseluruhan: {akurasi_total:.4f}\")"
      ],
      "metadata": {
        "colab": {
          "base_uri": "https://localhost:8080/"
        },
        "id": "GYWwsYUCeYQi",
        "outputId": "6d635b76-f283-4e72-9239-e0b76b61648c"
      },
      "execution_count": 21,
      "outputs": [
        {
          "output_type": "stream",
          "name": "stdout",
          "text": [
            "Confusion Matrix:\n",
            "[[ 344   23    2]\n",
            " [  39 1460   41]\n",
            " [   6   40 2045]]\n",
            "\n",
            "Kelas: Negatif\n",
            "  Precision: 0.8843\n",
            "  Recall:    0.9322\n",
            "  F1-score:  0.9077\n",
            "\n",
            "Kelas: Netral\n",
            "  Precision: 0.9586\n",
            "  Recall:    0.9481\n",
            "  F1-score:  0.9533\n",
            "\n",
            "Kelas: Positif\n",
            "  Precision: 0.9794\n",
            "  Recall:    0.9780\n",
            "  F1-score:  0.9787\n",
            "\n",
            "Akurasi Keseluruhan: 0.9623\n"
          ]
        }
      ]
    },
    {
      "cell_type": "markdown",
      "source": [
        "### **Traditional Machine Learning Models**"
      ],
      "metadata": {
        "id": "E5ddvR3aedkA"
      }
    },
    {
      "cell_type": "markdown",
      "source": [
        "#### **SVM + TF-IDF (80/20)**"
      ],
      "metadata": {
        "id": "22W8UeV3er4w"
      }
    },
    {
      "cell_type": "markdown",
      "source": [
        "**Membagi Data Pelatihan dan Pengujian**"
      ],
      "metadata": {
        "id": "Exyr7FK1fAco"
      }
    },
    {
      "cell_type": "code",
      "source": [
        "# Membagi Data menjadi Set Pelatihan dan Pengujian\n",
        "X_latih_svm, X_uji_svm, y_latih_svm, y_uji_svm = train_test_split(fitur_tfidf, label, test_size=0.2, random_state=42)\n",
        "\n",
        "print(\"Pembagian Sampel:\")\n",
        "print(f\"Set pelatihan: {X_latih_svm.shape[0]} sampel\")\n",
        "print(f\"Set pengujian: {X_uji_svm.shape[0]} sampel\")"
      ],
      "metadata": {
        "colab": {
          "base_uri": "https://localhost:8080/"
        },
        "id": "2dOcqZYqfLh5",
        "outputId": "2bd76487-8378-446a-d1a6-2cff4e2a02db"
      },
      "execution_count": 22,
      "outputs": [
        {
          "output_type": "stream",
          "name": "stdout",
          "text": [
            "Pembagian Sampel:\n",
            "Set pelatihan: 16000 sampel\n",
            "Set pengujian: 4000 sampel\n"
          ]
        }
      ]
    },
    {
      "cell_type": "markdown",
      "source": [
        "**Pelatihan dan Prediksi Model SVM**"
      ],
      "metadata": {
        "id": "OTc79dRdfW5b"
      }
    },
    {
      "cell_type": "code",
      "source": [
        "# Inisialisasi Model SVM dengan Kernel Linear\n",
        "model_svm = SVC(kernel='linear', probability=True)\n",
        "\n",
        "# Latih Model\n",
        "model_svm.fit(X_latih_svm, y_latih_svm)\n",
        "\n",
        "# Lakukan Prediksi\n",
        "y_pred_svm = model_svm.predict(X_uji_svm)"
      ],
      "metadata": {
        "id": "IQtcIcLTfhvm"
      },
      "execution_count": 23,
      "outputs": []
    },
    {
      "cell_type": "markdown",
      "source": [
        "**Evaluasi Model SVM Berbasis TF-IDF**"
      ],
      "metadata": {
        "id": "HLUTf_g3flmY"
      }
    },
    {
      "cell_type": "code",
      "source": [
        "# Evaluasi Model\n",
        "akurasi_latih_svm = accuracy_score(y_latih_svm, model_svm.predict(X_latih_svm))\n",
        "akurasi_svm = accuracy_score(y_uji_svm, y_pred_svm)\n",
        "\n",
        "print(\"\\nEvaluasi Model SVM + TF-IDF\")\n",
        "print(f'\\nAkurasi Latih: {akurasi_latih_svm:.4f}')\n",
        "print(f'Akurasi Uji: {akurasi_svm:.4f}')\n",
        "\n",
        "print(\"\\nLaporan Klasifikasi:\")\n",
        "print(classification_report(y_uji_svm, y_pred_svm, target_names=['negatif', 'netral', 'positif']))\n",
        "\n",
        "plt.show()"
      ],
      "metadata": {
        "colab": {
          "base_uri": "https://localhost:8080/"
        },
        "id": "ZbNZqsxPfrhb",
        "outputId": "b814effe-60ee-4b1d-e25e-26b857292274"
      },
      "execution_count": 24,
      "outputs": [
        {
          "output_type": "stream",
          "name": "stdout",
          "text": [
            "\n",
            "Evaluasi Model SVM + TF-IDF\n",
            "\n",
            "Akurasi Latih: 0.9813\n",
            "Akurasi Uji: 0.9517\n",
            "\n",
            "Laporan Klasifikasi:\n",
            "              precision    recall  f1-score   support\n",
            "\n",
            "     negatif       0.93      0.79      0.85       369\n",
            "      netral       0.91      0.97      0.94      1540\n",
            "     positif       0.99      0.96      0.98      2091\n",
            "\n",
            "    accuracy                           0.95      4000\n",
            "   macro avg       0.94      0.91      0.92      4000\n",
            "weighted avg       0.95      0.95      0.95      4000\n",
            "\n"
          ]
        }
      ]
    },
    {
      "cell_type": "markdown",
      "source": [
        "#### **Random Forest + TF-IDF (70/30)**"
      ],
      "metadata": {
        "id": "V9653GRDgZH_"
      }
    },
    {
      "cell_type": "markdown",
      "source": [
        "**Membagi Data Pelatihan dan Pengujian**"
      ],
      "metadata": {
        "id": "opkPDWDRge3r"
      }
    },
    {
      "cell_type": "code",
      "source": [
        "# Bagi Data menjadi Set Latih dan Set Uji (70% Latih, 30% Uji)\n",
        "X_latih_rf, X_uji_rf, y_latih_rf, y_uji_rf = train_test_split(fitur_tfidf, label, test_size=0.3, random_state=42)\n",
        "\n",
        "print(\"Jumlah Sampel: \")\n",
        "print(f\"Set Latih: {X_latih_rf.shape[0]} sampel\")\n",
        "print(f\"Set Uji: {X_uji_rf.shape[0]} sampel\")"
      ],
      "metadata": {
        "colab": {
          "base_uri": "https://localhost:8080/"
        },
        "id": "IjX_q_TlgrMQ",
        "outputId": "0b9c2967-cdd3-4663-8240-12b9cf505259"
      },
      "execution_count": 25,
      "outputs": [
        {
          "output_type": "stream",
          "name": "stdout",
          "text": [
            "Jumlah Sampel: \n",
            "Set Latih: 14000 sampel\n",
            "Set Uji: 6000 sampel\n"
          ]
        }
      ]
    },
    {
      "cell_type": "markdown",
      "source": [
        "**Inisialisasi dan Pelatihan Model Random Forest untuk Klasifikasi Sentimen**"
      ],
      "metadata": {
        "id": "4IXXGaNfgvsH"
      }
    },
    {
      "cell_type": "code",
      "source": [
        "# Inisialisasi Model Random Forest dengan Penyesuaian Hyperparameter\n",
        "rf_model = RandomForestClassifier(\n",
        "    n_estimators=300,\n",
        "    max_depth=None,\n",
        "    min_samples_split=5,\n",
        "    min_samples_leaf=2,\n",
        "    random_state=42\n",
        ")\n",
        "\n",
        "# Latih Model\n",
        "rf_model.fit(X_latih_rf, y_latih_rf)\n",
        "\n",
        "# Lakukan Prediksi\n",
        "y_pred_rf = rf_model.predict(X_uji_rf)"
      ],
      "metadata": {
        "id": "468tK9-Kg9CP"
      },
      "execution_count": 26,
      "outputs": []
    },
    {
      "cell_type": "markdown",
      "source": [
        "**Evaluasi Model Random Forest dengan Representasi TF-IDF**"
      ],
      "metadata": {
        "id": "3mGrJ1YFhAXz"
      }
    },
    {
      "cell_type": "code",
      "source": [
        "# Evaluasi Model\n",
        "akurat_latih = accuracy_score(y_latih_rf, rf_model.predict(X_latih_rf))\n",
        "akurat_uji_rf = accuracy_score(y_uji_rf, y_pred_rf)\n",
        "\n",
        "print(\"\\nEvaluasi Model Random Forest dengan TF-IDF\")\n",
        "print(f\"Akurasi Latih: {akurat_latih:.4f}\")\n",
        "print(f\"Akurasi Uji: {akurat_uji_rf:.4f}\")\n",
        "\n",
        "print(\"\\nLaporan Klasifikasi:\")\n",
        "print(classification_report(y_uji_rf, y_pred_rf, target_names=['negatif', 'netral', 'positif']))\n",
        "\n",
        "plt.show()"
      ],
      "metadata": {
        "colab": {
          "base_uri": "https://localhost:8080/"
        },
        "id": "H0mfpivUhHiY",
        "outputId": "e2c8ece3-d599-476d-d4a3-d86135e53564"
      },
      "execution_count": 28,
      "outputs": [
        {
          "output_type": "stream",
          "name": "stdout",
          "text": [
            "\n",
            "Evaluasi Model Random Forest dengan TF-IDF\n",
            "Akurasi Latih: 0.9189\n",
            "Akurasi Uji: 0.8863\n",
            "\n",
            "Laporan Klasifikasi:\n",
            "              precision    recall  f1-score   support\n",
            "\n",
            "     negatif       0.91      0.66      0.77       556\n",
            "      netral       0.88      0.84      0.86      2295\n",
            "     positif       0.89      0.96      0.92      3149\n",
            "\n",
            "    accuracy                           0.89      6000\n",
            "   macro avg       0.89      0.82      0.85      6000\n",
            "weighted avg       0.89      0.89      0.88      6000\n",
            "\n"
          ]
        }
      ]
    },
    {
      "cell_type": "markdown",
      "source": [
        "### **Perbandingan Performa Model**"
      ],
      "metadata": {
        "id": "KmHNyFXJhGs7"
      }
    },
    {
      "cell_type": "code",
      "source": [
        "# Membuat tabel ringkasan performa model\n",
        "ringkasan = {\n",
        "    'Model': ['LSTM + Embedding (80/20)', 'SVM + TF-IDF (80/20)', 'Random Forest + TF-IDF (70/30)'],\n",
        "    'Akurasi': [akurasi_lstm, akurasi_svm, akurat_uji_rf],  # gunakan nama variabel yang benar\n",
        "    'Rasio Pembagian Data': ['80/20', '80/20', '70/30'],\n",
        "    'Jenis Fitur': ['Word Embedding', 'TF-IDF', 'TF-IDF']\n",
        "}\n",
        "\n",
        "# Mengonversi ke DataFrame\n",
        "df_ringkasan = pd.DataFrame(ringkasan)\n",
        "\n",
        "# Format akurasi menjadi persen\n",
        "df_ringkasan['Akurasi'] = df_ringkasan['Akurasi'].apply(lambda x: f\"{x:.2%}\")\n",
        "\n",
        "# Menampilkan ringkasan\n",
        "print(\"Ringkasan Hasil Evaluasi Model\")\n",
        "display(df_ringkasan)"
      ],
      "metadata": {
        "colab": {
          "base_uri": "https://localhost:8080/",
          "height": 161
        },
        "id": "mL7FqftohREv",
        "outputId": "6bea0dc4-775f-4e53-ec22-5a496d6f10c1"
      },
      "execution_count": 29,
      "outputs": [
        {
          "output_type": "stream",
          "name": "stdout",
          "text": [
            "Ringkasan Hasil Evaluasi Model\n"
          ]
        },
        {
          "output_type": "display_data",
          "data": {
            "text/plain": [
              "                            Model Akurasi Rasio Pembagian Data     Jenis Fitur\n",
              "0        LSTM + Embedding (80/20)  96.22%                80/20  Word Embedding\n",
              "1            SVM + TF-IDF (80/20)  95.17%                80/20          TF-IDF\n",
              "2  Random Forest + TF-IDF (70/30)  88.63%                70/30          TF-IDF"
            ],
            "text/html": [
              "\n",
              "  <div id=\"df-9eaa8ee8-cb2c-4f42-af81-43d5b13213a2\" class=\"colab-df-container\">\n",
              "    <div>\n",
              "<style scoped>\n",
              "    .dataframe tbody tr th:only-of-type {\n",
              "        vertical-align: middle;\n",
              "    }\n",
              "\n",
              "    .dataframe tbody tr th {\n",
              "        vertical-align: top;\n",
              "    }\n",
              "\n",
              "    .dataframe thead th {\n",
              "        text-align: right;\n",
              "    }\n",
              "</style>\n",
              "<table border=\"1\" class=\"dataframe\">\n",
              "  <thead>\n",
              "    <tr style=\"text-align: right;\">\n",
              "      <th></th>\n",
              "      <th>Model</th>\n",
              "      <th>Akurasi</th>\n",
              "      <th>Rasio Pembagian Data</th>\n",
              "      <th>Jenis Fitur</th>\n",
              "    </tr>\n",
              "  </thead>\n",
              "  <tbody>\n",
              "    <tr>\n",
              "      <th>0</th>\n",
              "      <td>LSTM + Embedding (80/20)</td>\n",
              "      <td>96.22%</td>\n",
              "      <td>80/20</td>\n",
              "      <td>Word Embedding</td>\n",
              "    </tr>\n",
              "    <tr>\n",
              "      <th>1</th>\n",
              "      <td>SVM + TF-IDF (80/20)</td>\n",
              "      <td>95.17%</td>\n",
              "      <td>80/20</td>\n",
              "      <td>TF-IDF</td>\n",
              "    </tr>\n",
              "    <tr>\n",
              "      <th>2</th>\n",
              "      <td>Random Forest + TF-IDF (70/30)</td>\n",
              "      <td>88.63%</td>\n",
              "      <td>70/30</td>\n",
              "      <td>TF-IDF</td>\n",
              "    </tr>\n",
              "  </tbody>\n",
              "</table>\n",
              "</div>\n",
              "    <div class=\"colab-df-buttons\">\n",
              "\n",
              "  <div class=\"colab-df-container\">\n",
              "    <button class=\"colab-df-convert\" onclick=\"convertToInteractive('df-9eaa8ee8-cb2c-4f42-af81-43d5b13213a2')\"\n",
              "            title=\"Convert this dataframe to an interactive table.\"\n",
              "            style=\"display:none;\">\n",
              "\n",
              "  <svg xmlns=\"http://www.w3.org/2000/svg\" height=\"24px\" viewBox=\"0 -960 960 960\">\n",
              "    <path d=\"M120-120v-720h720v720H120Zm60-500h600v-160H180v160Zm220 220h160v-160H400v160Zm0 220h160v-160H400v160ZM180-400h160v-160H180v160Zm440 0h160v-160H620v160ZM180-180h160v-160H180v160Zm440 0h160v-160H620v160Z\"/>\n",
              "  </svg>\n",
              "    </button>\n",
              "\n",
              "  <style>\n",
              "    .colab-df-container {\n",
              "      display:flex;\n",
              "      gap: 12px;\n",
              "    }\n",
              "\n",
              "    .colab-df-convert {\n",
              "      background-color: #E8F0FE;\n",
              "      border: none;\n",
              "      border-radius: 50%;\n",
              "      cursor: pointer;\n",
              "      display: none;\n",
              "      fill: #1967D2;\n",
              "      height: 32px;\n",
              "      padding: 0 0 0 0;\n",
              "      width: 32px;\n",
              "    }\n",
              "\n",
              "    .colab-df-convert:hover {\n",
              "      background-color: #E2EBFA;\n",
              "      box-shadow: 0px 1px 2px rgba(60, 64, 67, 0.3), 0px 1px 3px 1px rgba(60, 64, 67, 0.15);\n",
              "      fill: #174EA6;\n",
              "    }\n",
              "\n",
              "    .colab-df-buttons div {\n",
              "      margin-bottom: 4px;\n",
              "    }\n",
              "\n",
              "    [theme=dark] .colab-df-convert {\n",
              "      background-color: #3B4455;\n",
              "      fill: #D2E3FC;\n",
              "    }\n",
              "\n",
              "    [theme=dark] .colab-df-convert:hover {\n",
              "      background-color: #434B5C;\n",
              "      box-shadow: 0px 1px 3px 1px rgba(0, 0, 0, 0.15);\n",
              "      filter: drop-shadow(0px 1px 2px rgba(0, 0, 0, 0.3));\n",
              "      fill: #FFFFFF;\n",
              "    }\n",
              "  </style>\n",
              "\n",
              "    <script>\n",
              "      const buttonEl =\n",
              "        document.querySelector('#df-9eaa8ee8-cb2c-4f42-af81-43d5b13213a2 button.colab-df-convert');\n",
              "      buttonEl.style.display =\n",
              "        google.colab.kernel.accessAllowed ? 'block' : 'none';\n",
              "\n",
              "      async function convertToInteractive(key) {\n",
              "        const element = document.querySelector('#df-9eaa8ee8-cb2c-4f42-af81-43d5b13213a2');\n",
              "        const dataTable =\n",
              "          await google.colab.kernel.invokeFunction('convertToInteractive',\n",
              "                                                    [key], {});\n",
              "        if (!dataTable) return;\n",
              "\n",
              "        const docLinkHtml = 'Like what you see? Visit the ' +\n",
              "          '<a target=\"_blank\" href=https://colab.research.google.com/notebooks/data_table.ipynb>data table notebook</a>'\n",
              "          + ' to learn more about interactive tables.';\n",
              "        element.innerHTML = '';\n",
              "        dataTable['output_type'] = 'display_data';\n",
              "        await google.colab.output.renderOutput(dataTable, element);\n",
              "        const docLink = document.createElement('div');\n",
              "        docLink.innerHTML = docLinkHtml;\n",
              "        element.appendChild(docLink);\n",
              "      }\n",
              "    </script>\n",
              "  </div>\n",
              "\n",
              "\n",
              "<div id=\"df-a1e2bab1-7e89-42ea-96d7-9f3be49f371b\">\n",
              "  <button class=\"colab-df-quickchart\" onclick=\"quickchart('df-a1e2bab1-7e89-42ea-96d7-9f3be49f371b')\"\n",
              "            title=\"Suggest charts\"\n",
              "            style=\"display:none;\">\n",
              "\n",
              "<svg xmlns=\"http://www.w3.org/2000/svg\" height=\"24px\"viewBox=\"0 0 24 24\"\n",
              "     width=\"24px\">\n",
              "    <g>\n",
              "        <path d=\"M19 3H5c-1.1 0-2 .9-2 2v14c0 1.1.9 2 2 2h14c1.1 0 2-.9 2-2V5c0-1.1-.9-2-2-2zM9 17H7v-7h2v7zm4 0h-2V7h2v10zm4 0h-2v-4h2v4z\"/>\n",
              "    </g>\n",
              "</svg>\n",
              "  </button>\n",
              "\n",
              "<style>\n",
              "  .colab-df-quickchart {\n",
              "      --bg-color: #E8F0FE;\n",
              "      --fill-color: #1967D2;\n",
              "      --hover-bg-color: #E2EBFA;\n",
              "      --hover-fill-color: #174EA6;\n",
              "      --disabled-fill-color: #AAA;\n",
              "      --disabled-bg-color: #DDD;\n",
              "  }\n",
              "\n",
              "  [theme=dark] .colab-df-quickchart {\n",
              "      --bg-color: #3B4455;\n",
              "      --fill-color: #D2E3FC;\n",
              "      --hover-bg-color: #434B5C;\n",
              "      --hover-fill-color: #FFFFFF;\n",
              "      --disabled-bg-color: #3B4455;\n",
              "      --disabled-fill-color: #666;\n",
              "  }\n",
              "\n",
              "  .colab-df-quickchart {\n",
              "    background-color: var(--bg-color);\n",
              "    border: none;\n",
              "    border-radius: 50%;\n",
              "    cursor: pointer;\n",
              "    display: none;\n",
              "    fill: var(--fill-color);\n",
              "    height: 32px;\n",
              "    padding: 0;\n",
              "    width: 32px;\n",
              "  }\n",
              "\n",
              "  .colab-df-quickchart:hover {\n",
              "    background-color: var(--hover-bg-color);\n",
              "    box-shadow: 0 1px 2px rgba(60, 64, 67, 0.3), 0 1px 3px 1px rgba(60, 64, 67, 0.15);\n",
              "    fill: var(--button-hover-fill-color);\n",
              "  }\n",
              "\n",
              "  .colab-df-quickchart-complete:disabled,\n",
              "  .colab-df-quickchart-complete:disabled:hover {\n",
              "    background-color: var(--disabled-bg-color);\n",
              "    fill: var(--disabled-fill-color);\n",
              "    box-shadow: none;\n",
              "  }\n",
              "\n",
              "  .colab-df-spinner {\n",
              "    border: 2px solid var(--fill-color);\n",
              "    border-color: transparent;\n",
              "    border-bottom-color: var(--fill-color);\n",
              "    animation:\n",
              "      spin 1s steps(1) infinite;\n",
              "  }\n",
              "\n",
              "  @keyframes spin {\n",
              "    0% {\n",
              "      border-color: transparent;\n",
              "      border-bottom-color: var(--fill-color);\n",
              "      border-left-color: var(--fill-color);\n",
              "    }\n",
              "    20% {\n",
              "      border-color: transparent;\n",
              "      border-left-color: var(--fill-color);\n",
              "      border-top-color: var(--fill-color);\n",
              "    }\n",
              "    30% {\n",
              "      border-color: transparent;\n",
              "      border-left-color: var(--fill-color);\n",
              "      border-top-color: var(--fill-color);\n",
              "      border-right-color: var(--fill-color);\n",
              "    }\n",
              "    40% {\n",
              "      border-color: transparent;\n",
              "      border-right-color: var(--fill-color);\n",
              "      border-top-color: var(--fill-color);\n",
              "    }\n",
              "    60% {\n",
              "      border-color: transparent;\n",
              "      border-right-color: var(--fill-color);\n",
              "    }\n",
              "    80% {\n",
              "      border-color: transparent;\n",
              "      border-right-color: var(--fill-color);\n",
              "      border-bottom-color: var(--fill-color);\n",
              "    }\n",
              "    90% {\n",
              "      border-color: transparent;\n",
              "      border-bottom-color: var(--fill-color);\n",
              "    }\n",
              "  }\n",
              "</style>\n",
              "\n",
              "  <script>\n",
              "    async function quickchart(key) {\n",
              "      const quickchartButtonEl =\n",
              "        document.querySelector('#' + key + ' button');\n",
              "      quickchartButtonEl.disabled = true;  // To prevent multiple clicks.\n",
              "      quickchartButtonEl.classList.add('colab-df-spinner');\n",
              "      try {\n",
              "        const charts = await google.colab.kernel.invokeFunction(\n",
              "            'suggestCharts', [key], {});\n",
              "      } catch (error) {\n",
              "        console.error('Error during call to suggestCharts:', error);\n",
              "      }\n",
              "      quickchartButtonEl.classList.remove('colab-df-spinner');\n",
              "      quickchartButtonEl.classList.add('colab-df-quickchart-complete');\n",
              "    }\n",
              "    (() => {\n",
              "      let quickchartButtonEl =\n",
              "        document.querySelector('#df-a1e2bab1-7e89-42ea-96d7-9f3be49f371b button');\n",
              "      quickchartButtonEl.style.display =\n",
              "        google.colab.kernel.accessAllowed ? 'block' : 'none';\n",
              "    })();\n",
              "  </script>\n",
              "</div>\n",
              "\n",
              "  <div id=\"id_a911bb36-e55f-40b4-881f-05c0a860cb94\">\n",
              "    <style>\n",
              "      .colab-df-generate {\n",
              "        background-color: #E8F0FE;\n",
              "        border: none;\n",
              "        border-radius: 50%;\n",
              "        cursor: pointer;\n",
              "        display: none;\n",
              "        fill: #1967D2;\n",
              "        height: 32px;\n",
              "        padding: 0 0 0 0;\n",
              "        width: 32px;\n",
              "      }\n",
              "\n",
              "      .colab-df-generate:hover {\n",
              "        background-color: #E2EBFA;\n",
              "        box-shadow: 0px 1px 2px rgba(60, 64, 67, 0.3), 0px 1px 3px 1px rgba(60, 64, 67, 0.15);\n",
              "        fill: #174EA6;\n",
              "      }\n",
              "\n",
              "      [theme=dark] .colab-df-generate {\n",
              "        background-color: #3B4455;\n",
              "        fill: #D2E3FC;\n",
              "      }\n",
              "\n",
              "      [theme=dark] .colab-df-generate:hover {\n",
              "        background-color: #434B5C;\n",
              "        box-shadow: 0px 1px 3px 1px rgba(0, 0, 0, 0.15);\n",
              "        filter: drop-shadow(0px 1px 2px rgba(0, 0, 0, 0.3));\n",
              "        fill: #FFFFFF;\n",
              "      }\n",
              "    </style>\n",
              "    <button class=\"colab-df-generate\" onclick=\"generateWithVariable('df_ringkasan')\"\n",
              "            title=\"Generate code using this dataframe.\"\n",
              "            style=\"display:none;\">\n",
              "\n",
              "  <svg xmlns=\"http://www.w3.org/2000/svg\" height=\"24px\"viewBox=\"0 0 24 24\"\n",
              "       width=\"24px\">\n",
              "    <path d=\"M7,19H8.4L18.45,9,17,7.55,7,17.6ZM5,21V16.75L18.45,3.32a2,2,0,0,1,2.83,0l1.4,1.43a1.91,1.91,0,0,1,.58,1.4,1.91,1.91,0,0,1-.58,1.4L9.25,21ZM18.45,9,17,7.55Zm-12,3A5.31,5.31,0,0,0,4.9,8.1,5.31,5.31,0,0,0,1,6.5,5.31,5.31,0,0,0,4.9,4.9,5.31,5.31,0,0,0,6.5,1,5.31,5.31,0,0,0,8.1,4.9,5.31,5.31,0,0,0,12,6.5,5.46,5.46,0,0,0,6.5,12Z\"/>\n",
              "  </svg>\n",
              "    </button>\n",
              "    <script>\n",
              "      (() => {\n",
              "      const buttonEl =\n",
              "        document.querySelector('#id_a911bb36-e55f-40b4-881f-05c0a860cb94 button.colab-df-generate');\n",
              "      buttonEl.style.display =\n",
              "        google.colab.kernel.accessAllowed ? 'block' : 'none';\n",
              "\n",
              "      buttonEl.onclick = () => {\n",
              "        google.colab.notebook.generateWithVariable('df_ringkasan');\n",
              "      }\n",
              "      })();\n",
              "    </script>\n",
              "  </div>\n",
              "\n",
              "    </div>\n",
              "  </div>\n"
            ],
            "application/vnd.google.colaboratory.intrinsic+json": {
              "type": "dataframe",
              "variable_name": "df_ringkasan",
              "summary": "{\n  \"name\": \"df_ringkasan\",\n  \"rows\": 3,\n  \"fields\": [\n    {\n      \"column\": \"Model\",\n      \"properties\": {\n        \"dtype\": \"string\",\n        \"num_unique_values\": 3,\n        \"samples\": [\n          \"LSTM + Embedding (80/20)\",\n          \"SVM + TF-IDF (80/20)\",\n          \"Random Forest + TF-IDF (70/30)\"\n        ],\n        \"semantic_type\": \"\",\n        \"description\": \"\"\n      }\n    },\n    {\n      \"column\": \"Akurasi\",\n      \"properties\": {\n        \"dtype\": \"string\",\n        \"num_unique_values\": 3,\n        \"samples\": [\n          \"96.22%\",\n          \"95.17%\",\n          \"88.63%\"\n        ],\n        \"semantic_type\": \"\",\n        \"description\": \"\"\n      }\n    },\n    {\n      \"column\": \"Rasio Pembagian Data\",\n      \"properties\": {\n        \"dtype\": \"string\",\n        \"num_unique_values\": 2,\n        \"samples\": [\n          \"70/30\",\n          \"80/20\"\n        ],\n        \"semantic_type\": \"\",\n        \"description\": \"\"\n      }\n    },\n    {\n      \"column\": \"Jenis Fitur\",\n      \"properties\": {\n        \"dtype\": \"string\",\n        \"num_unique_values\": 2,\n        \"samples\": [\n          \"TF-IDF\",\n          \"Word Embedding\"\n        ],\n        \"semantic_type\": \"\",\n        \"description\": \"\"\n      }\n    }\n  ]\n}"
            }
          },
          "metadata": {}
        }
      ]
    },
    {
      "cell_type": "markdown",
      "source": [
        "### **Save Models for Inference**"
      ],
      "metadata": {
        "id": "OccV81-_hUa0"
      }
    },
    {
      "cell_type": "code",
      "source": [
        "import os\n",
        "\n",
        "# Buat folder 'Models' jika belum ada\n",
        "model_dir = \"Models\"\n",
        "os.makedirs(model_dir, exist_ok=True)\n",
        "\n",
        "# Menyimpan Model LSTM dalam format Keras modern\n",
        "model_lstm.save(os.path.join(model_dir, \"lstm_sentiment_model.keras\"))\n",
        "\n",
        "# Menyimpan Model SVM\n",
        "with open(os.path.join(model_dir, \"svm_sentiment_model.pkl\"), \"wb\") as f:\n",
        "    pickle.dump(model_svm, f)\n",
        "\n",
        "# Menyimpan Model Random Forest\n",
        "with open(os.path.join(model_dir, \"rf_sentiment_model.pkl\"), \"wb\") as f:\n",
        "    pickle.dump(rf_model, f)\n",
        "\n",
        "# Menyimpan TF-IDF Vectorizer\n",
        "with open(os.path.join(model_dir, \"vectorizer.pkl\"), \"wb\") as f:\n",
        "    pickle.dump(tfidf, f)\n",
        "\n",
        "# Menyimpan Tokenizer Keras\n",
        "with open(os.path.join(model_dir, \"tokenizer.pkl\"), \"wb\") as f:\n",
        "    pickle.dump(tokenizer, f)\n",
        "\n",
        "print(\"Semua model dan komponen berhasil disimpan di folder 'Models/'\")"
      ],
      "metadata": {
        "id": "VVbFk6you_aY",
        "outputId": "63ff6370-d240-409d-b3fc-4dfb00909b43",
        "colab": {
          "base_uri": "https://localhost:8080/"
        }
      },
      "execution_count": 30,
      "outputs": [
        {
          "output_type": "stream",
          "name": "stdout",
          "text": [
            "Semua model dan komponen berhasil disimpan di folder 'Models/'\n"
          ]
        }
      ]
    }
  ]
}