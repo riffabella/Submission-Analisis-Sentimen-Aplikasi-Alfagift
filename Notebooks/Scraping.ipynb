{
  "nbformat": 4,
  "nbformat_minor": 0,
  "metadata": {
    "colab": {
      "provenance": [],
      "gpuType": "T4"
    },
    "kernelspec": {
      "name": "python3",
      "display_name": "Python 3"
    },
    "language_info": {
      "name": "python"
    },
    "accelerator": "GPU"
  },
  "cells": [
    {
      "cell_type": "markdown",
      "source": [
        "## **Instalasi dan Import Library untuk Scrapping**"
      ],
      "metadata": {
        "id": "ar5AhSNWJlvf"
      }
    },
    {
      "cell_type": "code",
      "execution_count": null,
      "metadata": {
        "colab": {
          "base_uri": "https://localhost:8080/"
        },
        "id": "kCe56HUIHO8o",
        "outputId": "2f111085-5c47-4ed1-b740-4d590bd53c41"
      },
      "outputs": [
        {
          "output_type": "stream",
          "name": "stdout",
          "text": [
            "Requirement already satisfied: google-play-scraper in /usr/local/lib/python3.11/dist-packages (1.2.7)\n",
            "Requirement already satisfied: pandas in /usr/local/lib/python3.11/dist-packages (2.2.2)\n",
            "Requirement already satisfied: tqdm in /usr/local/lib/python3.11/dist-packages (4.67.1)\n",
            "Requirement already satisfied: numpy>=1.23.2 in /usr/local/lib/python3.11/dist-packages (from pandas) (2.0.2)\n",
            "Requirement already satisfied: python-dateutil>=2.8.2 in /usr/local/lib/python3.11/dist-packages (from pandas) (2.8.2)\n",
            "Requirement already satisfied: pytz>=2020.1 in /usr/local/lib/python3.11/dist-packages (from pandas) (2025.2)\n",
            "Requirement already satisfied: tzdata>=2022.7 in /usr/local/lib/python3.11/dist-packages (from pandas) (2025.2)\n",
            "Requirement already satisfied: six>=1.5 in /usr/local/lib/python3.11/dist-packages (from python-dateutil>=2.8.2->pandas) (1.17.0)\n"
          ]
        }
      ],
      "source": [
        "# Instalasi library google-play-scraper\n",
        "!pip install google-play-scraper pandas tqdm"
      ]
    },
    {
      "cell_type": "code",
      "source": [
        "# Import library yang akan digunakan\n",
        "import pandas as pd\n",
        "from google_play_scraper import reviews_all, reviews, Sort\n",
        "from tqdm import tqdm\n",
        "import time"
      ],
      "metadata": {
        "id": "N9kWHVwrLMDh"
      },
      "execution_count": null,
      "outputs": []
    },
    {
      "cell_type": "markdown",
      "source": [
        "## **Scrapping Data Ulasan Apliakasi Alfagift**"
      ],
      "metadata": {
        "id": "gR0WIG09KLI6"
      }
    },
    {
      "cell_type": "code",
      "source": [
        "# Fungsi scraping ulasan aplikasi Grab dari Google Play Store\n",
        "def scraping():\n",
        "    # Mengambil data ulasan\n",
        "    app_reviews, _ = reviews(\n",
        "        'com.alfamart.alfagift',  # ID aplikasi Alfagift\n",
        "        lang='id',                 # Bahasa Indonesia\n",
        "        country='id',              # Lokasi: Indonesia\n",
        "        count=20000,               # Jumlah maksimal ulasan\n",
        "        sort=Sort.NEWEST           # Urutan ulasan: terbaru\n",
        "    )\n",
        "\n",
        "    # Konversi hasil scraping ke DataFrame\n",
        "    df = pd.DataFrame(app_reviews)\n",
        "\n",
        "    # Ambil kolom isi ulasan dan rating\n",
        "    df = df[['content', 'score']]\n",
        "\n",
        "    # Simpan file CSV\n",
        "    df.to_csv('alfagift_reviews.csv', index=False)\n",
        "    print(\"Scraping selesai! Data disimpan sebagai 'alfagift_reviews.csv'\")\n",
        "\n",
        "# Jalankan fungsi\n",
        "scraping()"
      ],
      "metadata": {
        "colab": {
          "base_uri": "https://localhost:8080/"
        },
        "id": "T5X9n8tCKJ5j",
        "outputId": "3180d83d-dfa3-4e93-fa12-f77ea0a55ab7"
      },
      "execution_count": null,
      "outputs": [
        {
          "output_type": "stream",
          "name": "stdout",
          "text": [
            "Scraping selesai! Data disimpan sebagai 'alfagift_reviews.csv'\n"
          ]
        }
      ]
    }
  ]
}